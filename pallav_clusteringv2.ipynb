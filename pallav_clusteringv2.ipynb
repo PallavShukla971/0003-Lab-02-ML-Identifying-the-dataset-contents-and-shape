{
 "cells": [
  {
   "cell_type": "markdown",
   "id": "a5bb2609",
   "metadata": {},
   "source": [
    "# Assignment 2\n",
    "## IRIS DATASET\n",
    "\n",
    "### 2.1\n",
    "\n",
    "#### Identifying the dataset contents and shape"
   ]
  },
  {
   "cell_type": "code",
   "execution_count": 3,
   "id": "829efb7a",
   "metadata": {
    "collapsed": true
   },
   "outputs": [
    {
     "name": "stdout",
     "output_type": "stream",
     "text": [
      "\n",
      "Data summary:\n",
      " [[5.1 3.5 1.4 0.2]\n",
      " [4.9 3.  1.4 0.2]\n",
      " [4.7 3.2 1.3 0.2]\n",
      " [4.6 3.1 1.5 0.2]\n",
      " [5.  3.6 1.4 0.2]\n",
      " [5.4 3.9 1.7 0.4]\n",
      " [4.6 3.4 1.4 0.3]\n",
      " [5.  3.4 1.5 0.2]\n",
      " [4.4 2.9 1.4 0.2]\n",
      " [4.9 3.1 1.5 0.1]\n",
      " [5.4 3.7 1.5 0.2]\n",
      " [4.8 3.4 1.6 0.2]\n",
      " [4.8 3.  1.4 0.1]\n",
      " [4.3 3.  1.1 0.1]\n",
      " [5.8 4.  1.2 0.2]\n",
      " [5.7 4.4 1.5 0.4]\n",
      " [5.4 3.9 1.3 0.4]\n",
      " [5.1 3.5 1.4 0.3]\n",
      " [5.7 3.8 1.7 0.3]\n",
      " [5.1 3.8 1.5 0.3]\n",
      " [5.4 3.4 1.7 0.2]\n",
      " [5.1 3.7 1.5 0.4]\n",
      " [4.6 3.6 1.  0.2]\n",
      " [5.1 3.3 1.7 0.5]\n",
      " [4.8 3.4 1.9 0.2]\n",
      " [5.  3.  1.6 0.2]\n",
      " [5.  3.4 1.6 0.4]\n",
      " [5.2 3.5 1.5 0.2]\n",
      " [5.2 3.4 1.4 0.2]\n",
      " [4.7 3.2 1.6 0.2]\n",
      " [4.8 3.1 1.6 0.2]\n",
      " [5.4 3.4 1.5 0.4]\n",
      " [5.2 4.1 1.5 0.1]\n",
      " [5.5 4.2 1.4 0.2]\n",
      " [4.9 3.1 1.5 0.1]\n",
      " [5.  3.2 1.2 0.2]\n",
      " [5.5 3.5 1.3 0.2]\n",
      " [4.9 3.1 1.5 0.1]\n",
      " [4.4 3.  1.3 0.2]\n",
      " [5.1 3.4 1.5 0.2]\n",
      " [5.  3.5 1.3 0.3]\n",
      " [4.5 2.3 1.3 0.3]\n",
      " [4.4 3.2 1.3 0.2]\n",
      " [5.  3.5 1.6 0.6]\n",
      " [5.1 3.8 1.9 0.4]\n",
      " [4.8 3.  1.4 0.3]\n",
      " [5.1 3.8 1.6 0.2]\n",
      " [4.6 3.2 1.4 0.2]\n",
      " [5.3 3.7 1.5 0.2]\n",
      " [5.  3.3 1.4 0.2]\n",
      " [7.  3.2 4.7 1.4]\n",
      " [6.4 3.2 4.5 1.5]\n",
      " [6.9 3.1 4.9 1.5]\n",
      " [5.5 2.3 4.  1.3]\n",
      " [6.5 2.8 4.6 1.5]\n",
      " [5.7 2.8 4.5 1.3]\n",
      " [6.3 3.3 4.7 1.6]\n",
      " [4.9 2.4 3.3 1. ]\n",
      " [6.6 2.9 4.6 1.3]\n",
      " [5.2 2.7 3.9 1.4]\n",
      " [5.  2.  3.5 1. ]\n",
      " [5.9 3.  4.2 1.5]\n",
      " [6.  2.2 4.  1. ]\n",
      " [6.1 2.9 4.7 1.4]\n",
      " [5.6 2.9 3.6 1.3]\n",
      " [6.7 3.1 4.4 1.4]\n",
      " [5.6 3.  4.5 1.5]\n",
      " [5.8 2.7 4.1 1. ]\n",
      " [6.2 2.2 4.5 1.5]\n",
      " [5.6 2.5 3.9 1.1]\n",
      " [5.9 3.2 4.8 1.8]\n",
      " [6.1 2.8 4.  1.3]\n",
      " [6.3 2.5 4.9 1.5]\n",
      " [6.1 2.8 4.7 1.2]\n",
      " [6.4 2.9 4.3 1.3]\n",
      " [6.6 3.  4.4 1.4]\n",
      " [6.8 2.8 4.8 1.4]\n",
      " [6.7 3.  5.  1.7]\n",
      " [6.  2.9 4.5 1.5]\n",
      " [5.7 2.6 3.5 1. ]\n",
      " [5.5 2.4 3.8 1.1]\n",
      " [5.5 2.4 3.7 1. ]\n",
      " [5.8 2.7 3.9 1.2]\n",
      " [6.  2.7 5.1 1.6]\n",
      " [5.4 3.  4.5 1.5]\n",
      " [6.  3.4 4.5 1.6]\n",
      " [6.7 3.1 4.7 1.5]\n",
      " [6.3 2.3 4.4 1.3]\n",
      " [5.6 3.  4.1 1.3]\n",
      " [5.5 2.5 4.  1.3]\n",
      " [5.5 2.6 4.4 1.2]\n",
      " [6.1 3.  4.6 1.4]\n",
      " [5.8 2.6 4.  1.2]\n",
      " [5.  2.3 3.3 1. ]\n",
      " [5.6 2.7 4.2 1.3]\n",
      " [5.7 3.  4.2 1.2]\n",
      " [5.7 2.9 4.2 1.3]\n",
      " [6.2 2.9 4.3 1.3]\n",
      " [5.1 2.5 3.  1.1]\n",
      " [5.7 2.8 4.1 1.3]\n",
      " [6.3 3.3 6.  2.5]\n",
      " [5.8 2.7 5.1 1.9]\n",
      " [7.1 3.  5.9 2.1]\n",
      " [6.3 2.9 5.6 1.8]\n",
      " [6.5 3.  5.8 2.2]\n",
      " [7.6 3.  6.6 2.1]\n",
      " [4.9 2.5 4.5 1.7]\n",
      " [7.3 2.9 6.3 1.8]\n",
      " [6.7 2.5 5.8 1.8]\n",
      " [7.2 3.6 6.1 2.5]\n",
      " [6.5 3.2 5.1 2. ]\n",
      " [6.4 2.7 5.3 1.9]\n",
      " [6.8 3.  5.5 2.1]\n",
      " [5.7 2.5 5.  2. ]\n",
      " [5.8 2.8 5.1 2.4]\n",
      " [6.4 3.2 5.3 2.3]\n",
      " [6.5 3.  5.5 1.8]\n",
      " [7.7 3.8 6.7 2.2]\n",
      " [7.7 2.6 6.9 2.3]\n",
      " [6.  2.2 5.  1.5]\n",
      " [6.9 3.2 5.7 2.3]\n",
      " [5.6 2.8 4.9 2. ]\n",
      " [7.7 2.8 6.7 2. ]\n",
      " [6.3 2.7 4.9 1.8]\n",
      " [6.7 3.3 5.7 2.1]\n",
      " [7.2 3.2 6.  1.8]\n",
      " [6.2 2.8 4.8 1.8]\n",
      " [6.1 3.  4.9 1.8]\n",
      " [6.4 2.8 5.6 2.1]\n",
      " [7.2 3.  5.8 1.6]\n",
      " [7.4 2.8 6.1 1.9]\n",
      " [7.9 3.8 6.4 2. ]\n",
      " [6.4 2.8 5.6 2.2]\n",
      " [6.3 2.8 5.1 1.5]\n",
      " [6.1 2.6 5.6 1.4]\n",
      " [7.7 3.  6.1 2.3]\n",
      " [6.3 3.4 5.6 2.4]\n",
      " [6.4 3.1 5.5 1.8]\n",
      " [6.  3.  4.8 1.8]\n",
      " [6.9 3.1 5.4 2.1]\n",
      " [6.7 3.1 5.6 2.4]\n",
      " [6.9 3.1 5.1 2.3]\n",
      " [5.8 2.7 5.1 1.9]\n",
      " [6.8 3.2 5.9 2.3]\n",
      " [6.7 3.3 5.7 2.5]\n",
      " [6.7 3.  5.2 2.3]\n",
      " [6.3 2.5 5.  1.9]\n",
      " [6.5 3.  5.2 2. ]\n",
      " [6.2 3.4 5.4 2.3]\n",
      " [5.9 3.  5.1 1.8]]\n",
      "\n",
      "Data shape:\n",
      " (150, 4)\n"
     ]
    }
   ],
   "source": [
    "import pandas as pd\n",
    "import numpy as np\n",
    "import matplotlib.pyplot as plt\n",
    "\n",
    "iris_data = np.load('Iris_data.npy')\n",
    "print(\"\\nData summary:\\n\", iris_data)\n",
    "print(\"\\nData shape:\\n\", iris_data.shape)\n",
    "# iris_file_path = '../melb_data.csv'\n",
    "# iris_data = pd.read_csv(iris_file_path) "
   ]
  },
  {
   "cell_type": "markdown",
   "id": "1a150676",
   "metadata": {},
   "source": [
    "#### Iris dataset has 150 samples and 4 features\n",
    "This might represent sepal_length, sepal_width, petal_length, petal_width"
   ]
  },
  {
   "cell_type": "markdown",
   "id": "3d067d9c",
   "metadata": {},
   "source": [
    "### Iris Labels"
   ]
  },
  {
   "cell_type": "code",
   "execution_count": 4,
   "id": "80af95cc",
   "metadata": {
    "collapsed": true
   },
   "outputs": [
    {
     "name": "stdout",
     "output_type": "stream",
     "text": [
      "\n",
      "Data summary:\n",
      " [0 0 0 0 0 0 0 0 0 0 0 0 0 0 0 0 0 0 0 0 0 0 0 0 0 0 0 0 0 0 0 0 0 0 0 0 0\n",
      " 0 0 0 0 0 0 0 0 0 0 0 0 0 1 1 1 1 1 1 1 1 1 1 1 1 1 1 1 1 1 1 1 1 1 1 1 1\n",
      " 1 1 1 1 1 1 1 1 1 1 1 1 1 1 1 1 1 1 1 1 1 1 1 1 1 1 2 2 2 2 2 2 2 2 2 2 2\n",
      " 2 2 2 2 2 2 2 2 2 2 2 2 2 2 2 2 2 2 2 2 2 2 2 2 2 2 2 2 2 2 2 2 2 2 2 2 2\n",
      " 2 2]\n",
      "\n",
      "Data shape:\n",
      " (150,)\n"
     ]
    }
   ],
   "source": [
    "iris_labels = np.load('Iris_labels.npy')\n",
    "print(\"\\nData summary:\\n\", iris_labels)\n",
    "print(\"\\nData shape:\\n\", iris_labels.shape)"
   ]
  },
  {
   "cell_type": "markdown",
   "id": "ca48b127",
   "metadata": {},
   "source": [
    "#### Iris label contains 150 elements in one row,that is like an array with 150 elements in it.\n",
    "Possible that it represents the 3 species of Iris: Setosa, Versicolour, Virginica\n",
    "\n",
    "Thus as initial thought we have the Iris data which can be used to predict the 3 species labelled by Iris_labels data."
   ]
  },
  {
   "cell_type": "code",
   "execution_count": 5,
   "id": "4dbdc53c",
   "metadata": {},
   "outputs": [
    {
     "data": {
      "image/png": "[encoded data removed]",
      "text/plain": [
       "<Figure size 432x288 with 1 Axes>"
      ]
     },
     "metadata": {
      "needs_background": "light"
     },
     "output_type": "display_data"
    }
   ],
   "source": [
    "\n",
    "x = iris_data[:,:2] #we only take first 2 features to plot on scatter plot\n",
    "\n",
    "x_min = np.min(x[:,0]) - 0.2\n",
    "x_max = np.max(x[:,0]) + 0.2\n",
    "y_min = np.min(x[:,1]) - 0.2\n",
    "y_max = np.max(x[:,1]) + 0.2\n",
    "\n",
    "# print(x_min,x_max,y_min,y_max)\n",
    "fig = plt.scatter(x[:, 0], x[:, 1], c=iris_labels, edgecolor=\"k\")\n",
    "\n",
    "plt.title(\"Fisher Iris Dataset of 2 features\", alpha = 0.5)\n",
    "plt.xlabel(\"Feature 1\")\n",
    "plt.ylabel(\"Feature 2\")\n",
    "\n",
    "plt.xlim(x_min, x_max)\n",
    "plt.ylim(y_min, y_max)\n",
    "plt.xticks() #for the markings on the x axis and y axis respectively.\n",
    "plt.yticks()\n",
    "\n",
    "##After below checking the unique values and observing that the iris_labels are in order\n",
    "plt.legend(handles=fig.legend_elements()[0], labels = ['Setosa','Versicolor','Virginica'], loc = 'upper right', bbox_to_anchor=(1.3, 1), title = 'Species')\n",
    "plt.show()"
   ]
  },
  {
   "cell_type": "code",
   "execution_count": null,
   "id": "7dd67c02",
   "metadata": {},
   "outputs": [],
   "source": [
    "species , counts = np.unique(iris_labels, return_counts = True)\n",
    "print(np.asarray((species, counts)).T)"
   ]
  },
  {
   "cell_type": "markdown",
   "id": "81446bb9",
   "metadata": {},
   "source": [
    "The number of species are equal for every species as well as since iris labels is sorted, hence putting the legend back in above cell for scatter plot."
   ]
  },
  {
   "cell_type": "markdown",
   "id": "b4b96d60",
   "metadata": {},
   "source": [
    "### 2.2"
   ]
  },
  {
   "cell_type": "markdown",
   "id": "81b68d31",
   "metadata": {},
   "source": [
    "### Explanation of the code below:\n",
    "n groups of equal variance = 3 groups of equal variance (checked above with unique values)<BR>\n",
    "The k-means algorithm divides a set of N samples X into K disjoint clusters C, means - cluster 'centroids'<BR>\n",
    "k-means tends to choose the centroid that reduce the inertia, wcss - within-cluster sum-of-squares<b>(wcss)</b><BR>\n",
    "k-means will always converge but this might lead to a local minumum, to avoid this we use init='k-means++'.<a href = \"https://scikit-learn.org/stable/modules/clustering.html#k-means\">Reference</a>.<br>\n",
    "\n",
    "\n",
    "#### How to Implementing K-Means Clustering ?\n",
    "\n",
    "* Randomly place K centroids for the initial clusters.\n",
    "* Assign each data point to their nearest centroid.\n",
    "* Update centroid locations based on the locations of the data points.\n",
    "* Repeat steps 2 and 3\n",
    "<br>\n",
    "A good model is one with low inertia AND a low number of clusters (K)\n",
    "\n",
    "Invoking K-means and predicting cluster mebership"
   ]
  },
  {
   "cell_type": "code",
   "execution_count": 22,
   "id": "f0aa5a3b",
   "metadata": {},
   "outputs": [
    {
     "name": "stdout",
     "output_type": "stream",
     "text": [
      "[[ 0 62]\n",
      " [ 1 50]\n",
      " [ 2 38]]\n"
     ]
    }
   ],
   "source": [
    "#Finding optimum number of clusters for k-means classification\n",
    "from sklearn.cluster import KMeans\n",
    "x = iris_data #we take all features to plot on scatter plot as mentioned\n",
    "\n",
    "kmeans = KMeans(n_clusters = 3, init = 'k-means++', max_iter = 300, n_init = 10, random_state = 3)\n",
    "y_kmeans = kmeans.fit_predict(x)\n",
    "# n_clusters - number of clusters to form as well as the number of centroids to generate\n",
    "# n_init Number of time the k-means algorithm will be run with different centroid seeds\n",
    "# random_state random number generation for centroid initialization\n",
    "# for i in range(1, 13):\n",
    "#     kmeans = KMeans(n_clusters = i, init = 'k-means++', max_iter = 100, n_init = 10, random_state = 0) #constructor called\n",
    "#     kmeans.fit(x) #Compute k-means clustering\n",
    "    #wcss.append(kmeans.inertia_) \n",
    "    # inertia_ Sum of squared distances of samples to their closest cluster center, weighted by the sample weights if provided.\n",
    "\n",
    "# Checking unique values for the model\n",
    "y_kmeans_values , counts = np.unique(y_kmeans, return_counts = True)\n",
    "print(np.asarray((y_kmeans_values, counts)).T)\n"
   ]
  },
  {
   "cell_type": "markdown",
   "id": "78060bf6",
   "metadata": {},
   "source": [
    "Plotting the scatter plot"
   ]
  },
  {
   "cell_type": "code",
   "execution_count": 23,
   "id": "45eb92b6",
   "metadata": {},
   "outputs": [
    {
     "data": {
      "text/plain": [
       "<matplotlib.legend.Legend at 0x185ba0261c0>"
      ]
     },
     "execution_count": 23,
     "metadata": {},
     "output_type": "execute_result"
    },
    {
     "data": {
      "image/png": "[encoded data removed]",
      "text/plain": [
       "<Figure size 432x288 with 1 Axes>"
      ]
     },
     "metadata": {
      "needs_background": "light"
     },
     "output_type": "display_data"
    }
   ],
   "source": [
    "plt.scatter(x[y_kmeans == 0, 0], x[y_kmeans == 0, 1], c = 'yellow', label = 'Setosa')\n",
    "plt.scatter(x[y_kmeans == 1, 0], x[y_kmeans == 1, 1], c = 'green', label = 'Versicolour')\n",
    "plt.scatter(x[y_kmeans == 2, 0], x[y_kmeans == 2, 1], c = 'purple', label = 'Virginica')\n",
    "\n",
    "#Plotting the centroids of the clusters\n",
    "plt.scatter(kmeans.cluster_centers_[:, 0], kmeans.cluster_centers_[:,1], marker=\"X\", c = 'red', label = 'Centroids')\n",
    "\n",
    "plt.xlabel(\"Feature 1\")\n",
    "plt.ylabel(\"Feature 2\")\n",
    "\n",
    "plt.title(\"K-Means Figure\")\n",
    "plt.legend(loc = 'upper right', bbox_to_anchor=(1.3, 1), title=\"LEGEND\")"
   ]
  }
 ],
 "metadata": {
  "kernelspec": {
   "display_name": "Python 3 (ipykernel)",
   "language": "python",
   "name": "python3"
  },
  "language_info": {
   "codemirror_mode": {
    "name": "ipython",
    "version": 3
   },
   "file_extension": ".py",
   "mimetype": "text/x-python",
   "name": "python",
   "nbconvert_exporter": "python",
   "pygments_lexer": "ipython3",
   "version": "3.9.7"
  }
 },
 "nbformat": 4,
 "nbformat_minor": 5
}
